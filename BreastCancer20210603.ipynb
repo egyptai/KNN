{
  "nbformat": 4,
  "nbformat_minor": 0,
  "metadata": {
    "colab": {
      "name": "BreastCancer20210603.ipynb",
      "provenance": [],
      "authorship_tag": "ABX9TyNHvJLEV8GSTKGWcZvA1xKW",
      "include_colab_link": true
    },
    "kernelspec": {
      "name": "python3",
      "display_name": "Python 3"
    },
    "language_info": {
      "name": "python"
    },
    "accelerator": "GPU"
  },
  "cells": [
    {
      "cell_type": "markdown",
      "metadata": {
        "id": "view-in-github",
        "colab_type": "text"
      },
      "source": [
        "<a href=\"https://colab.research.google.com/github/egyptai/KNN/blob/main/BreastCancer20210603.ipynb\" target=\"_parent\"><img src=\"https://colab.research.google.com/assets/colab-badge.svg\" alt=\"Open In Colab\"/></a>"
      ]
    },
    {
      "cell_type": "code",
      "metadata": {
        "id": "IT-_8HLEwDh9"
      },
      "source": [
        "import matplotlib.pyplot as plt\n",
        "from sklearn.datasets import load_breast_cancer\n",
        "from sklearn.model_selection import train_test_split\n",
        "from sklearn.neighbors import KNeighborsClassifier\n",
        "import numpy as np\n",
        "from sklearn.preprocessing import StandardScaler"
      ],
      "execution_count": 62,
      "outputs": []
    },
    {
      "cell_type": "code",
      "metadata": {
        "id": "40jT_2E-wWGr"
      },
      "source": [
        "cancer = load_breast_cancer()"
      ],
      "execution_count": 63,
      "outputs": []
    },
    {
      "cell_type": "code",
      "metadata": {
        "colab": {
          "base_uri": "https://localhost:8080/",
          "height": 265
        },
        "id": "WJUBfcCswaAF",
        "outputId": "16aadf1f-5ecc-43ac-8849-e3f35689ab04"
      },
      "source": [
        "plt.bar(np.arange(30), cancer['data'][0])\n",
        "plt.show()"
      ],
      "execution_count": 64,
      "outputs": [
        {
          "output_type": "display_data",
          "data": {
            "image/png": "[encoded data removed]",
            "text/plain": [
              "<Figure size 432x288 with 1 Axes>"
            ]
          },
          "metadata": {
            "tags": [],
            "needs_background": "light"
          }
        }
      ]
    },
    {
      "cell_type": "code",
      "metadata": {
        "id": "Oy0GADkswrtq"
      },
      "source": [
        "scaler = StandardScaler()\n",
        "z_cancer = scaler.fit_transform(cancer['data'])"
      ],
      "execution_count": 65,
      "outputs": []
    },
    {
      "cell_type": "code",
      "metadata": {
        "colab": {
          "base_uri": "https://localhost:8080/",
          "height": 265
        },
        "id": "pJegnHD3zRJX",
        "outputId": "33858f9f-e4cd-4a2a-a4b1-6121e294b130"
      },
      "source": [
        "plt.bar(np.arange(30), z_cancer[0])\n",
        "plt.show()"
      ],
      "execution_count": 66,
      "outputs": [
        {
          "output_type": "display_data",
          "data": {
            "image/png": "[encoded data removed]",
            "text/plain": [
              "<Figure size 432x288 with 1 Axes>"
            ]
          },
          "metadata": {
            "tags": [],
            "needs_background": "light"
          }
        }
      ]
    },
    {
      "cell_type": "code",
      "metadata": {
        "id": "K1SKzDJiw8y7"
      },
      "source": [
        "trainX, testX, trainY, testY = train_test_split(z_cancer, cancer['target'], test_size = 0.2)"
      ],
      "execution_count": 67,
      "outputs": []
    },
    {
      "cell_type": "code",
      "metadata": {
        "colab": {
          "base_uri": "https://localhost:8080/"
        },
        "id": "4zC_QDvxxFAz",
        "outputId": "03287121-d076-467f-dd87-8f8780d50df8"
      },
      "source": [
        "knn = KNeighborsClassifier(n_neighbors=5, p=2, metric='minkowski')\n",
        "knn.fit(trainX, trainY)"
      ],
      "execution_count": 68,
      "outputs": [
        {
          "output_type": "execute_result",
          "data": {
            "text/plain": [
              "KNeighborsClassifier(algorithm='auto', leaf_size=30, metric='minkowski',\n",
              "                     metric_params=None, n_jobs=None, n_neighbors=5, p=2,\n",
              "                     weights='uniform')"
            ]
          },
          "metadata": {
            "tags": []
          },
          "execution_count": 68
        }
      ]
    },
    {
      "cell_type": "code",
      "metadata": {
        "colab": {
          "base_uri": "https://localhost:8080/"
        },
        "id": "SD8A0IrXxM1U",
        "outputId": "28dbc056-c557-4216-ef67-4507cf6bae97"
      },
      "source": [
        "predY = knn.predict(testX)\n",
        "accuracy = (testY == predY).mean()\n",
        "print()\n",
        "print(\"* 시험용 데이터로 측정한 정확도 = %.2f\" % accuracy)"
      ],
      "execution_count": 69,
      "outputs": [
        {
          "output_type": "stream",
          "text": [
            "\n",
            "* 시험용 데이터로 측정한 정확도 = 0.96\n"
          ],
          "name": "stdout"
        }
      ]
    },
    {
      "cell_type": "code",
      "metadata": {
        "colab": {
          "base_uri": "https://localhost:8080/"
        },
        "id": "uynKtOw4xeMm",
        "outputId": "dc8c6266-f1e5-4d50-f942-6ed143ff4c1b"
      },
      "source": [
        "predY = knn.predict(trainX)\n",
        "accuracy = (trainY == predY).mean()\n",
        "print(\"* 학습용 데이터로 측정한 정확도 = %.2f\" % accuracy)"
      ],
      "execution_count": 70,
      "outputs": [
        {
          "output_type": "stream",
          "text": [
            "* 학습용 데이터로 측정한 정확도 = 0.98\n"
          ],
          "name": "stdout"
        }
      ]
    },
    {
      "cell_type": "code",
      "metadata": {
        "id": "SpsEk8RVxv8f"
      },
      "source": [
        "testAcc = []\n",
        "trainAcc = []\n",
        "for k in range(1, 50):\n",
        "    knn = KNeighborsClassifier(n_neighbors = k, p = 2, metric = 'minkowski')\n",
        "    knn.fit(trainX, trainY)\n",
        "    predY = knn.predict(testX)\n",
        "    testAcc.append((testY == predY).sum() / len(predY))\n",
        "    predY = knn.predict(trainX)\n",
        "    trainAcc.append((trainY == predY).sum() / len(predY))"
      ],
      "execution_count": 71,
      "outputs": []
    },
    {
      "cell_type": "code",
      "metadata": {
        "colab": {
          "base_uri": "https://localhost:8080/",
          "height": 334
        },
        "id": "yJNvTVFHySio",
        "outputId": "f06a06cb-2b9f-4b8d-fc16-6f5ae1b48277"
      },
      "source": [
        "plt.figure(figsize = (8, 5))\n",
        "plt.plot(testAcc, label = \"Test Data\")\n",
        "plt.plot(trainAcc, label = \"Train Data\")\n",
        "plt.legend()\n",
        "plt.xlabel(\"k\")\n",
        "plt.ylabel(\"Accuracy\")\n",
        "plt.show()"
      ],
      "execution_count": 72,
      "outputs": [
        {
          "output_type": "display_data",
          "data": {
            "image/png": "[encoded data removed]",
            "text/plain": [
              "<Figure size 576x360 with 1 Axes>"
            ]
          },
          "metadata": {
            "tags": [],
            "needs_background": "light"
          }
        }
      ]
    },
    {
      "cell_type": "code",
      "metadata": {
        "id": "dN3uK5xQyWRU"
      },
      "source": [
        ""
      ],
      "execution_count": 72,
      "outputs": []
    }
  ]
}