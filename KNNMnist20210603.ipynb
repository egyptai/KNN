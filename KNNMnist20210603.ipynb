{
  "nbformat": 4,
  "nbformat_minor": 0,
  "metadata": {
    "colab": {
      "name": "KNNMnist20210603.ipynb",
      "provenance": [],
      "authorship_tag": "ABX9TyNRvuqbZr3+GF6ADnCSQAsf",
      "include_colab_link": true
    },
    "kernelspec": {
      "name": "python3",
      "display_name": "Python 3"
    },
    "language_info": {
      "name": "python"
    }
  },
  "cells": [
    {
      "cell_type": "markdown",
      "metadata": {
        "id": "view-in-github",
        "colab_type": "text"
      },
      "source": [
        "<a href=\"https://colab.research.google.com/github/egyptai/KNN/blob/main/KNNMnist20210603.ipynb\" target=\"_parent\"><img src=\"https://colab.research.google.com/assets/colab-badge.svg\" alt=\"Open In Colab\"/></a>"
      ]
    },
    {
      "cell_type": "code",
      "metadata": {
        "id": "s4iTyDC2-WjP"
      },
      "source": [
        "import matplotlib.pyplot as plt\n",
        "from tensorflow.keras.datasets import mnist\n",
        "from sklearn.neighbors import KNeighborsClassifier\n",
        "import numpy as np"
      ],
      "execution_count": 1,
      "outputs": []
    },
    {
      "cell_type": "code",
      "metadata": {
        "colab": {
          "base_uri": "https://localhost:8080/"
        },
        "id": "7fueFG3e-ivg",
        "outputId": "532b723e-6e91-4775-f3a8-e831a2d68457"
      },
      "source": [
        "(x_train, y_train), (x_test, y_test) = mnist.load_data()"
      ],
      "execution_count": 2,
      "outputs": [
        {
          "output_type": "stream",
          "text": [
            "Downloading data from https://storage.googleapis.com/tensorflow/tf-keras-datasets/mnist.npz\n",
            "11493376/11490434 [==============================] - 0s 0us/step\n"
          ],
          "name": "stdout"
        }
      ]
    },
    {
      "cell_type": "code",
      "metadata": {
        "id": "kFi3kumK-p4w"
      },
      "source": [
        "x_train = x_train[:5000]\n",
        "y_train = y_train[:5000]\n",
        "x_test = x_test[:1000]\n",
        "y_test = y_test[:1000]"
      ],
      "execution_count": 3,
      "outputs": []
    },
    {
      "cell_type": "code",
      "metadata": {
        "colab": {
          "base_uri": "https://localhost:8080/",
          "height": 265
        },
        "id": "q_pG2v-Z-x09",
        "outputId": "3c1c2bc0-7265-4b29-f300-3b7da394f4dd"
      },
      "source": [
        "plt.imshow(x_train[0])\n",
        "plt.show()"
      ],
      "execution_count": 4,
      "outputs": [
        {
          "output_type": "display_data",
          "data": {
            "image/png": "[encoded data removed]",
            "text/plain": [
              "<Figure size 432x288 with 1 Axes>"
            ]
          },
          "metadata": {
            "tags": [],
            "needs_background": "light"
          }
        }
      ]
    },
    {
      "cell_type": "code",
      "metadata": {
        "id": "jqWNFhy9_RKk"
      },
      "source": [
        "x_train = x_train.reshape(-1, 784)\n",
        "x_test = x_test.reshape(-1, 784)"
      ],
      "execution_count": 5,
      "outputs": []
    },
    {
      "cell_type": "code",
      "metadata": {
        "colab": {
          "base_uri": "https://localhost:8080/"
        },
        "id": "qBdWGC7S_Ye-",
        "outputId": "f9ec24b7-5403-41db-f999-3a1a7182f5ea"
      },
      "source": [
        "x_train.shape"
      ],
      "execution_count": 6,
      "outputs": [
        {
          "output_type": "execute_result",
          "data": {
            "text/plain": [
              "(5000, 784)"
            ]
          },
          "metadata": {
            "tags": []
          },
          "execution_count": 6
        }
      ]
    },
    {
      "cell_type": "code",
      "metadata": {
        "id": "ilwzv7Zz_Z8E"
      },
      "source": [
        "x_train = x_train / 255\n",
        "x_test = x_test / 255"
      ],
      "execution_count": 7,
      "outputs": []
    },
    {
      "cell_type": "code",
      "metadata": {
        "colab": {
          "base_uri": "https://localhost:8080/"
        },
        "id": "2VDi9wAm_dzH",
        "outputId": "ee1ca568-c068-4a99-a62e-57e947f4c27f"
      },
      "source": [
        "knn = KNeighborsClassifier(n_neighbors=5, p=2, metric='minkowski')\n",
        "knn.fit(x_train, y_train)"
      ],
      "execution_count": 8,
      "outputs": [
        {
          "output_type": "execute_result",
          "data": {
            "text/plain": [
              "KNeighborsClassifier(algorithm='auto', leaf_size=30, metric='minkowski',\n",
              "                     metric_params=None, n_jobs=None, n_neighbors=5, p=2,\n",
              "                     weights='uniform')"
            ]
          },
          "metadata": {
            "tags": []
          },
          "execution_count": 8
        }
      ]
    },
    {
      "cell_type": "code",
      "metadata": {
        "colab": {
          "base_uri": "https://localhost:8080/"
        },
        "id": "tqN8q_uh_lms",
        "outputId": "8eaff0e7-e254-4334-c8cd-e9d4a5811dec"
      },
      "source": [
        "y_pred = knn.predict(x_test)\n",
        "accuracy = (y_test == y_pred).mean()\n",
        "print()\n",
        "print(\"* 시험용 데이터로 측정한 정확도 = %.2f\" % accuracy)"
      ],
      "execution_count": 9,
      "outputs": [
        {
          "output_type": "stream",
          "text": [
            "\n",
            "* 시험용 데이터로 측정한 정확도 = 0.91\n"
          ],
          "name": "stdout"
        }
      ]
    },
    {
      "cell_type": "code",
      "metadata": {
        "id": "hR4aNaV7_2Pg"
      },
      "source": [
        "n_sample = 10\n",
        "miss_cls = np.where(y_test != y_pred)[0]\n",
        "miss_sam = np.random.choice(miss_cls, n_sample)"
      ],
      "execution_count": 10,
      "outputs": []
    },
    {
      "cell_type": "code",
      "metadata": {
        "colab": {
          "base_uri": "https://localhost:8080/",
          "height": 104
        },
        "id": "-qUAQmimC91s",
        "outputId": "62072600-4766-41b3-a9a7-34965e3d79d3"
      },
      "source": [
        "fig, ax = plt.subplots(1, n_sample, figsize = (12,4))\n",
        "for i, miss in enumerate(miss_sam):\n",
        "    x = x_test[miss] * 255\n",
        "    x = x.reshape(28, 28)\n",
        "    ax[i].imshow(x)\n",
        "    ax[i].axis('off')\n",
        "    ax[i].set_title(str(y_test[miss]) + ' / ' + str(y_pred[miss]))\n",
        "plt.show()"
      ],
      "execution_count": 15,
      "outputs": [
        {
          "output_type": "display_data",
          "data": {
            "image/png": "[encoded data removed]",
            "text/plain": [
              "<Figure size 864x288 with 10 Axes>"
            ]
          },
          "metadata": {
            "tags": [],
            "needs_background": "light"
          }
        }
      ]
    },
    {
      "cell_type": "code",
      "metadata": {
        "id": "-NiKCK22DZGM"
      },
      "source": [
        ""
      ],
      "execution_count": null,
      "outputs": []
    }
  ]
}