{
  "nbformat": 4,
  "nbformat_minor": 0,
  "metadata": {
    "colab": {
      "name": "Iristest20210603.ipynb",
      "provenance": [],
      "authorship_tag": "ABX9TyOev1eBZI0EKne8bzc4svor",
      "include_colab_link": true
    },
    "kernelspec": {
      "name": "python3",
      "display_name": "Python 3"
    },
    "language_info": {
      "name": "python"
    }
  },
  "cells": [
    {
      "cell_type": "markdown",
      "metadata": {
        "id": "view-in-github",
        "colab_type": "text"
      },
      "source": [
        "<a href=\"https://colab.research.google.com/github/egyptai/KNN/blob/main/Iristest20210603.ipynb\" target=\"_parent\"><img src=\"https://colab.research.google.com/assets/colab-badge.svg\" alt=\"Open In Colab\"/></a>"
      ]
    },
    {
      "cell_type": "code",
      "metadata": {
        "id": "2v3bUuf9svbu"
      },
      "source": [
        "import matplotlib.pyplot as plt\n",
        "from sklearn.datasets import load_iris\n",
        "from sklearn.model_selection import train_test_split\n",
        "from sklearn.neighbors import KNeighborsClassifier"
      ],
      "execution_count": 2,
      "outputs": []
    },
    {
      "cell_type": "code",
      "metadata": {
        "id": "SmQrOkp2s5WE"
      },
      "source": [
        "iris = load_iris()"
      ],
      "execution_count": 3,
      "outputs": []
    },
    {
      "cell_type": "code",
      "metadata": {
        "colab": {
          "base_uri": "https://localhost:8080/",
          "height": 52
        },
        "id": "MZfADC5Ss_Gn",
        "outputId": "c4a17ca8-884e-4e7e-fc35-a570e16c3b27"
      },
      "source": [
        "'''\n",
        "print(iris.keys())\n",
        "print(iris['data'])\n",
        "print(iris['target'])\n",
        "print(iris['DESCR'])\n",
        "print(iris['target_names'])\n",
        "print(iris['feature_names'])\n",
        "print(iris['data'].shape)\n",
        "'''"
      ],
      "execution_count": 9,
      "outputs": [
        {
          "output_type": "execute_result",
          "data": {
            "application/vnd.google.colaboratory.intrinsic+json": {
              "type": "string"
            },
            "text/plain": [
              "\"\\nprint(iris.keys())\\nprint(iris['data'])\\nprint(iris['target'])\\nprint(iris['DESCR'])\\nprint(iris['target_names'])\\nprint(iris['feature_names'])\\nprint(iris['data'].shape)\\n\""
            ]
          },
          "metadata": {
            "tags": []
          },
          "execution_count": 9
        }
      ]
    },
    {
      "cell_type": "code",
      "metadata": {
        "id": "HSzhu6mHtT5i"
      },
      "source": [
        "trainX, testX, trainY, testY = \\\n",
        "  train_test_split(iris['data'], iris['target'], test_size = 0.2)"
      ],
      "execution_count": 7,
      "outputs": []
    },
    {
      "cell_type": "code",
      "metadata": {
        "colab": {
          "base_uri": "https://localhost:8080/"
        },
        "id": "07cSltoktkjt",
        "outputId": "db81a625-5db8-4011-d42d-065d42418941"
      },
      "source": [
        "knn = KNeighborsClassifier(n_neighbors = 5, p = 2, metric = 'minkowski')\n",
        "knn.fit(trainX, trainY)"
      ],
      "execution_count": 11,
      "outputs": [
        {
          "output_type": "execute_result",
          "data": {
            "text/plain": [
              "KNeighborsClassifier(algorithm='auto', leaf_size=30, metric='minkowski',\n",
              "                     metric_params=None, n_jobs=None, n_neighbors=5, p=2,\n",
              "                     weights='uniform')"
            ]
          },
          "metadata": {
            "tags": []
          },
          "execution_count": 11
        }
      ]
    },
    {
      "cell_type": "code",
      "metadata": {
        "colab": {
          "base_uri": "https://localhost:8080/"
        },
        "id": "cTWXKmYDtzCD",
        "outputId": "b2961761-b635-4e68-fcbb-5b9bfa1a342c"
      },
      "source": [
        "predY = knn.predict(testX)\n",
        "accuracy = (testY == predY).mean()\n",
        "print()\n",
        "print(\"* 시험용 데이터로 측정한 정확도 = %.2f\" % accuracy)"
      ],
      "execution_count": 13,
      "outputs": [
        {
          "output_type": "stream",
          "text": [
            "\n",
            "* 시험용 데이터로 측정한 정확도 = 1.00\n"
          ],
          "name": "stdout"
        }
      ]
    },
    {
      "cell_type": "code",
      "metadata": {
        "colab": {
          "base_uri": "https://localhost:8080/"
        },
        "id": "0AyquTgBuUbJ",
        "outputId": "25c33c25-f4a7-4bfe-f862-037440fd0a79"
      },
      "source": [
        "predY = knn.predict(trainX)\n",
        "accuracy = (trainY == predY).mean()\n",
        "print(\"* 학습용 데이터로 측정환 정확도 = %.2f\" % accuracy)"
      ],
      "execution_count": 14,
      "outputs": [
        {
          "output_type": "stream",
          "text": [
            "* 학습용 데이터로 측정환 정확도 = 0.96\n"
          ],
          "name": "stdout"
        }
      ]
    },
    {
      "cell_type": "code",
      "metadata": {
        "id": "eytUSa3OuvfX"
      },
      "source": [
        "testAcc= []\n",
        "trainAcc = []\n",
        "for k in range(1, 50):\n",
        "  knn = KNeighborsClassifier(n_neighbors=k, p=2, metric='minkowski')\n",
        "  knn.fit(trainX, trainY)\n",
        "\n",
        "  predY = knn.predict(testX)\n",
        "  testAcc.append((testY == predY).sum() / len(predY))\n",
        "\n",
        "  predY = knn.predict(trainX)\n",
        "  trainAcc.append((trainY == predY).sum() / len(predY))"
      ],
      "execution_count": 16,
      "outputs": []
    },
    {
      "cell_type": "code",
      "metadata": {
        "colab": {
          "base_uri": "https://localhost:8080/",
          "height": 334
        },
        "id": "iWa3CQM1vTxf",
        "outputId": "ea1efdab-7709-4e83-a6fd-a3299404f9d0"
      },
      "source": [
        "plt.figure(figsize = (8, 5))\n",
        "plt.plot(testAcc, label = \"Test Data\")\n",
        "plt.plot(trainAcc, label = \"Train Data\")\n",
        "plt.legend()\n",
        "plt.xlabel(\"k\")\n",
        "plt.ylabel(\"Accuracy\")\n",
        "plt.show()"
      ],
      "execution_count": 18,
      "outputs": [
        {
          "output_type": "display_data",
          "data": {
            "image/png": "[encoded data removed]",
            "text/plain": [
              "<Figure size 576x360 with 1 Axes>"
            ]
          },
          "metadata": {
            "tags": [],
            "needs_background": "light"
          }
        }
      ]
    },
    {
      "cell_type": "code",
      "metadata": {
        "id": "nhw488A6vlF-"
      },
      "source": [
        ""
      ],
      "execution_count": null,
      "outputs": []
    }
  ]
}