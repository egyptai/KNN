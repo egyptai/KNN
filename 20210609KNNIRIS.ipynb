{
  "nbformat": 4,
  "nbformat_minor": 0,
  "metadata": {
    "colab": {
      "name": "20210609KNNIRIS.ipynb",
      "provenance": [],
      "authorship_tag": "ABX9TyP8ExO5DY0PQxQtlu+q8kWA",
      "include_colab_link": true
    },
    "kernelspec": {
      "name": "python3",
      "display_name": "Python 3"
    },
    "language_info": {
      "name": "python"
    }
  },
  "cells": [
    {
      "cell_type": "markdown",
      "metadata": {
        "id": "view-in-github",
        "colab_type": "text"
      },
      "source": [
        "<a href=\"https://colab.research.google.com/github/egyptai/KNN/blob/main/20210609KNNIRIS.ipynb\" target=\"_parent\"><img src=\"https://colab.research.google.com/assets/colab-badge.svg\" alt=\"Open In Colab\"/></a>"
      ]
    },
    {
      "cell_type": "code",
      "metadata": {
        "id": "EC21jeJ_c-tZ"
      },
      "source": [
        "import matplotlib.pyplot as plt\n",
        "from sklearn.datasets import load_iris\n",
        "from sklearn.model_selection import train_test_split\n",
        "from sklearn.neighbors import KNeighborsClassifier\n",
        "from sklearn.metrics import classification_report\n",
        "from sklearn.metrics import accuracy_score, recall_score, precision_score, f1_score\n"
      ],
      "execution_count": 1,
      "outputs": []
    },
    {
      "cell_type": "code",
      "metadata": {
        "id": "b-MFR8PbdD4X"
      },
      "source": [
        "iris = load_iris()"
      ],
      "execution_count": 2,
      "outputs": []
    },
    {
      "cell_type": "code",
      "metadata": {
        "id": "T5rSf54zdFLk"
      },
      "source": [
        "trainX, testX, trainY, testY = train_test_split(iris['data'], iris['target'], test_size = 0.2)"
      ],
      "execution_count": 3,
      "outputs": []
    },
    {
      "cell_type": "code",
      "metadata": {
        "colab": {
          "base_uri": "https://localhost:8080/"
        },
        "id": "uqiDs0frdHK9",
        "outputId": "3b45f867-5c4b-4bd9-913c-25a87c959f9c"
      },
      "source": [
        "knn = KNeighborsClassifier(n_neighbors=5, p=2, metric='minkowski')\n",
        "knn.fit(trainX, trainY)\n"
      ],
      "execution_count": 4,
      "outputs": [
        {
          "output_type": "execute_result",
          "data": {
            "text/plain": [
              "KNeighborsClassifier(algorithm='auto', leaf_size=30, metric='minkowski',\n",
              "                     metric_params=None, n_jobs=None, n_neighbors=5, p=2,\n",
              "                     weights='uniform')"
            ]
          },
          "metadata": {
            "tags": []
          },
          "execution_count": 4
        }
      ]
    },
    {
      "cell_type": "code",
      "metadata": {
        "colab": {
          "base_uri": "https://localhost:8080/"
        },
        "id": "LuItqdOfdIPx",
        "outputId": "68f556eb-b7d2-433a-db62-c666ce9b3976"
      },
      "source": [
        "predY = knn.predict(testX)\n",
        "print(classification_report(testY, predY, target_names=iris.target_names))"
      ],
      "execution_count": 5,
      "outputs": [
        {
          "output_type": "stream",
          "text": [
            "              precision    recall  f1-score   support\n",
            "\n",
            "      setosa       1.00      1.00      1.00        11\n",
            "  versicolor       0.88      1.00      0.93         7\n",
            "   virginica       1.00      0.92      0.96        12\n",
            "\n",
            "    accuracy                           0.97        30\n",
            "   macro avg       0.96      0.97      0.96        30\n",
            "weighted avg       0.97      0.97      0.97        30\n",
            "\n"
          ],
          "name": "stdout"
        }
      ]
    },
    {
      "cell_type": "code",
      "metadata": {
        "colab": {
          "base_uri": "https://localhost:8080/"
        },
        "id": "RZh9l9djdKJt",
        "outputId": "6a818b95-2818-4c25-fb68-d53aaf451bd2"
      },
      "source": [
        "print(' Accuracy = %.3f' % accuracy_score(testY, predY))\n",
        "print('   Recall = %.3f' % recall_score(testY, predY, average='macro'))\n",
        "print('Precision = %.3f' % precision_score(testY, predY, average='macro'))\n",
        "print(' F1-score = %.3f' % f1_score(testY, predY, average='macro'))\n"
      ],
      "execution_count": 6,
      "outputs": [
        {
          "output_type": "stream",
          "text": [
            " Accuracy = 0.967\n",
            "   Recall = 0.972\n",
            "Precision = 0.958\n",
            " F1-score = 0.963\n"
          ],
          "name": "stdout"
        }
      ]
    },
    {
      "cell_type": "code",
      "metadata": {
        "colab": {
          "base_uri": "https://localhost:8080/"
        },
        "id": "_HYqCk7GdLdk",
        "outputId": "c694d206-4506-4020-f5d1-68fb3042fbf5"
      },
      "source": [
        "recall = 1 * 11/30 + 0.88 * 8 / 30 + 0.91 * 11 / 30\n",
        "print(recall)"
      ],
      "execution_count": 7,
      "outputs": [
        {
          "output_type": "stream",
          "text": [
            "0.9349999999999999\n"
          ],
          "name": "stdout"
        }
      ]
    },
    {
      "cell_type": "code",
      "metadata": {
        "id": "VGl3SbSxdNQm"
      },
      "source": [
        ""
      ],
      "execution_count": null,
      "outputs": []
    }
  ]
}